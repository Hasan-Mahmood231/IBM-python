{
 "cells": [
  {
   "cell_type": "code",
   "execution_count": 5,
   "id": "458a10f9",
   "metadata": {},
   "outputs": [],
   "source": [
    "import pandas as pd\n",
    "import numpy as np\n",
    "import seaborn as sns"
   ]
  },
  {
   "cell_type": "code",
   "execution_count": 11,
   "id": "bdee783e",
   "metadata": {},
   "outputs": [
    {
     "name": "stdout",
     "output_type": "stream",
     "text": [
      "   Rank                                Bank name  \\\n",
      "0     1  Industrial and Commercial Bank of China   \n",
      "1     2               Agricultural Bank of China   \n",
      "2     3                  China Construction Bank   \n",
      "3     4                            Bank of China   \n",
      "4     5                           JPMorgan Chase   \n",
      "\n",
      "   Total assets (2024) (US$ billion)  \n",
      "0                            6303.44  \n",
      "1                            5623.12  \n",
      "2                            5400.28  \n",
      "3                            4578.28  \n",
      "4                            4002.81  \n"
     ]
    },
    {
     "name": "stderr",
     "output_type": "stream",
     "text": [
      "C:\\Users\\hassa\\AppData\\Local\\Temp\\ipykernel_12876\\3196997016.py:14: FutureWarning: Passing literal html to 'read_html' is deprecated and will be removed in a future version. To read from a literal string, wrap it in a 'StringIO' object.\n",
      "  tables = pd.read_html(response.text)\n"
     ]
    }
   ],
   "source": [
    "# URL = ('https://en.wikipedia.org/wiki/List_of_largest_banks')\n",
    "# tables = pd.read_html(url)\n",
    "import pandas as pd\n",
    "import requests\n",
    "\n",
    "# Step 1: Link of the page\n",
    "url = \"https://en.wikipedia.org/wiki/List_of_largest_banks\"\n",
    "\n",
    "# Step 2: Send request like a browser (add User-Agent header)\n",
    "headers = {\"User-Agent\": \"Mozilla/5.0\"}\n",
    "response = requests.get(url, headers=headers)\n",
    "\n",
    "# Step 3: Extract tables from the HTML content\n",
    "tables = pd.read_html(response.text)\n",
    "\n",
    "# Step 4: Take the first table (index 0)\n",
    "df = tables[0]\n",
    "df.head(10)\n",
    "# Step 5: Show first 5 rows\n",
    "print(df.head())\n"
   ]
  },
  {
   "cell_type": "code",
   "execution_count": 12,
   "id": "0f71a269",
   "metadata": {},
   "outputs": [
    {
     "data": {
      "text/plain": [
       "(100, 3)"
      ]
     },
     "execution_count": 12,
     "metadata": {},
     "output_type": "execute_result"
    }
   ],
   "source": [
    "df.shape"
   ]
  },
  {
   "cell_type": "code",
   "execution_count": 14,
   "id": "77f46bd6",
   "metadata": {},
   "outputs": [
    {
     "data": {
      "text/plain": [
       "Rank                                 100\n",
       "Bank name                            100\n",
       "Total assets (2024) (US$ billion)    100\n",
       "dtype: int64"
      ]
     },
     "execution_count": 14,
     "metadata": {},
     "output_type": "execute_result"
    }
   ],
   "source": [
    "df.isna().count()"
   ]
  },
  {
   "cell_type": "code",
   "execution_count": 15,
   "id": "8ce38533",
   "metadata": {},
   "outputs": [
    {
     "name": "stdout",
     "output_type": "stream",
     "text": [
      "created...\n"
     ]
    }
   ],
   "source": [
    "df.to_csv(\"Bank_data.csv\",index=False)\n",
    "print(\"created...\")"
   ]
  },
  {
   "cell_type": "code",
   "execution_count": null,
   "id": "41de9b3b",
   "metadata": {},
   "outputs": [],
   "source": []
  }
 ],
 "metadata": {
  "kernelspec": {
   "display_name": "base",
   "language": "python",
   "name": "python3"
  },
  "language_info": {
   "codemirror_mode": {
    "name": "ipython",
    "version": 3
   },
   "file_extension": ".py",
   "mimetype": "text/x-python",
   "name": "python",
   "nbconvert_exporter": "python",
   "pygments_lexer": "ipython3",
   "version": "3.13.5"
  }
 },
 "nbformat": 4,
 "nbformat_minor": 5
}
