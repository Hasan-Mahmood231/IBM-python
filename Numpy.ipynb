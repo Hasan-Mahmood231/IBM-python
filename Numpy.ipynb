{
 "cells": [
  {
   "cell_type": "markdown",
   "id": "df92f98b",
   "metadata": {},
   "source": [
    "## Numpy Library Nots :"
   ]
  },
  {
   "cell_type": "code",
   "execution_count": 1,
   "id": "7a93e5d9",
   "metadata": {},
   "outputs": [
    {
     "data": {
      "text/plain": [
       "array([23, 23, 24, 12, 21, 22])"
      ]
     },
     "execution_count": 1,
     "metadata": {},
     "output_type": "execute_result"
    }
   ],
   "source": [
    "import numpy as np\n",
    "arr = np.array([23,23,24,12,21,22])\n",
    "arr"
   ]
  },
  {
   "cell_type": "code",
   "execution_count": 9,
   "id": "0b530a0a",
   "metadata": {},
   "outputs": [
    {
     "data": {
      "text/plain": [
       "array([1., 1., 1., 1., 1.])"
      ]
     },
     "execution_count": 9,
     "metadata": {},
     "output_type": "execute_result"
    }
   ],
   "source": [
    "arr = np.zeros((3,4))\n",
    "arr\n",
    "arr = np.ones(5)\n",
    "arr"
   ]
  },
  {
   "cell_type": "code",
   "execution_count": 16,
   "id": "36568244",
   "metadata": {},
   "outputs": [
    {
     "data": {
      "text/plain": [
       "array([ 1. ,  2.4,  3.9,  5.3,  6.8,  8.2,  9.7, 11.1, 12.6, 14. , 15.5,\n",
       "       16.9, 18.4, 19.8, 21.3, 22.7, 24.2, 25.6, 27.1, 28.5, 30. , 31.4,\n",
       "       32.9, 34.3, 35.8, 37.2, 38.7, 40.1, 41.6, 43. ])"
      ]
     },
     "execution_count": 16,
     "metadata": {},
     "output_type": "execute_result"
    }
   ],
   "source": [
    "arr = np.linspace(1,43,30)\n",
    "arr.round(1)"
   ]
  },
  {
   "cell_type": "code",
   "execution_count": 28,
   "id": "0edbf05f",
   "metadata": {},
   "outputs": [
    {
     "name": "stdout",
     "output_type": "stream",
     "text": [
      "[89 60  3 68 18 23 82 19 49 31  3 86 37 52 52 44  9 13 46 26]\n",
      "The shape of our array is (20,)\n",
      "The size of array is 20\n",
      "The max num of array is 89\n",
      "The min num of array is 3\n",
      "The index of small num of array is 0\n"
     ]
    }
   ],
   "source": [
    "my_arr = np.random.randint(1,90,20)\n",
    "print(my_arr)\n",
    "print(f\"The shape of our array is {my_arr.shape}\")\n",
    "print(f\"The size of array is {my_arr.size}\")\n",
    "print(f\"The max num of array is {my_arr.max()}\")\n",
    "print(f\"The min num of array is {my_arr.min()}\")\n",
    "print(f\"The index of small num of array is {my_arr.argmax()}\") #like this we can for min "
   ]
  },
  {
   "cell_type": "markdown",
   "id": "264e23fd",
   "metadata": {},
   "source": [
    "now let change the array shape "
   ]
  },
  {
   "cell_type": "markdown",
   "id": "68899774",
   "metadata": {},
   "source": [
    "# working process\n",
    "    its like wehen you reshape then check the number of element and its size in matrix"
   ]
  },
  {
   "cell_type": "code",
   "execution_count": null,
   "id": "95c6df7b",
   "metadata": {},
   "outputs": [
    {
     "data": {
      "text/plain": [
       "array([[89, 60,  3, 68],\n",
       "       [18, 23, 82, 19],\n",
       "       [49, 31,  3, 86],\n",
       "       [37, 52, 52, 44],\n",
       "       [ 9, 13, 46, 26]], dtype=int32)"
      ]
     },
     "execution_count": 30,
     "metadata": {},
     "output_type": "execute_result"
    }
   ],
   "source": [
    "new = my_arr.reshape(5,4)   #in this ex we have 20 elemnt and we arrange in 4*5 \n",
    "new"
   ]
  },
  {
   "cell_type": "markdown",
   "id": "a19d6d3e",
   "metadata": {},
   "source": [
    "Slicing in 2d array "
   ]
  },
  {
   "cell_type": "code",
   "execution_count": null,
   "id": "969671f9",
   "metadata": {},
   "outputs": [
    {
     "data": {
      "text/plain": [
       "array([[60,  3],\n",
       "       [23, 82]], dtype=int32)"
      ]
     },
     "execution_count": 31,
     "metadata": {},
     "output_type": "execute_result"
    }
   ],
   "source": [
    "#let say we want to print 60,3and 23,82 in above matrix. so \n",
    "new_array = new[0:2,1:3]\n",
    "new_array\n",
    "# so the logic is that like 2d array elemnt access\n",
    "# we well move and instead of index we ll slice and then\n",
    "# commma and then another slice "
   ]
  },
  {
   "cell_type": "code",
   "execution_count": null,
   "id": "12d2f39e",
   "metadata": {},
   "outputs": [],
   "source": []
  }
 ],
 "metadata": {
  "kernelspec": {
   "display_name": "base",
   "language": "python",
   "name": "python3"
  },
  "language_info": {
   "codemirror_mode": {
    "name": "ipython",
    "version": 3
   },
   "file_extension": ".py",
   "mimetype": "text/x-python",
   "name": "python",
   "nbconvert_exporter": "python",
   "pygments_lexer": "ipython3",
   "version": "3.13.5"
  }
 },
 "nbformat": 4,
 "nbformat_minor": 5
}
