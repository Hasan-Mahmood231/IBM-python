{
 "cells": [
  {
   "cell_type": "markdown",
   "id": "4c38b8bc",
   "metadata": {},
   "source": [
    "# Welcome to My Python serise:"
   ]
  },
  {
   "cell_type": "code",
   "execution_count": 8,
   "id": "a592f62a",
   "metadata": {},
   "outputs": [
    {
     "name": "stdout",
     "output_type": "stream",
     "text": [
      "1 2 3 \n",
      "hassan hasnain shazain \n",
      "1 = hassan\n",
      "2 = hasnain\n",
      "3 = shazain\n"
     ]
    }
   ],
   "source": [
    "d = {1 : \"hassan\", 2 : \"hasnain\", 3 : \"shazain\"}\n",
    "for key in d:\n",
    "    print(key,end=\" \")\n",
    "\n",
    "print()\n",
    "\n",
    "for value in d.values():\n",
    "    print(value,end=\" \")\n",
    "print()\n",
    "for key,value in d.items():\n",
    "    print(key,\"=\",value)"
   ]
  },
  {
   "cell_type": "markdown",
   "id": "3a6b1670",
   "metadata": {},
   "source": [
    "1. Divisible by 7 and Multiples of 5\n",
    "\n",
    "Write a Python program to find those numbers which are divisible by 7 and multiples of 5, between 1500 and 2700 (both included)."
   ]
  },
  {
   "cell_type": "code",
   "execution_count": null,
   "id": "cdb3a68a",
   "metadata": {},
   "outputs": [
    {
     "name": "stdout",
     "output_type": "stream",
     "text": [
      "1505 1540 1575 1610 1645 1680 1715 1750 1785 1820 1855 1890 1925 1960 1995 2030 2065 2100 2135 2170 2205 2240 2275 2310 2345 2380 2415 2450 2485 2520 2555 2590 2625 2660 2695 "
     ]
    }
   ],
   "source": [
    "new_nume = []\n",
    "for i in range(1500,2700):\n",
    "    if(i%5 == 0 and i%7==0):\n",
    "        new_nume.append(i)\n",
    "\n",
    "for i in new_nume:\n",
    "    print(i,end=\" \") "
   ]
  },
  {
   "cell_type": "markdown",
   "id": "cdcbc07f",
   "metadata": {},
   "source": [
    "2. Temperature Converter\n",
    "\n",
    "Write a Python program to convert temperatures to and from Celsius and Fahrenheit.\n",
    "\n",
    "`[ Formula : c/5 = f-32/9 [ where c = temperature in celsius and f = temperature in fahrenheit ]`\n",
    "\n",
    "Expected Output :\n",
    "\n",
    "60°C is 140 in Fahrenheit\n",
    "45°F is 7 in Celsius"
   ]
  },
  {
   "cell_type": "code",
   "execution_count": null,
   "id": "c6a47b29",
   "metadata": {},
   "outputs": [],
   "source": [
    "tem_type = input(\"Enter the temperature type you wanna enter |F/C| :\")\n",
    "tem_type=tem_type.lower()\n",
    "temp = int(input(\"Enter the tempreature :\"))\n",
    "if tem_type == 'f':\n",
    "    c = (temp-32)*(9/5)\n",
    "    print(f\"Temperature in clecius is {c}C\")\n",
    "elif tem_type == 'c':\n",
    "    f = temp*(9/5)+32\n",
    "    print(f\"Temperature in Faranhite is {f}\")\n",
    "    "
   ]
  },
  {
   "cell_type": "markdown",
   "id": "e74a3284",
   "metadata": {},
   "source": [
    "3. Number Guessing Game\n",
    "\n",
    "Write a Python program to guess a number between 1 and 9.\n",
    "\n",
    "Note : User is prompted to enter a guess. If the user guesses wrong then the prompt appears again until the guess is correct, on successful guess, user will get a \"Well guessed!\" message, and the program will exit.\n",
    "\n"
   ]
  },
  {
   "cell_type": "code",
   "execution_count": null,
   "id": "b0b8f0f1",
   "metadata": {},
   "outputs": [],
   "source": [
    "import random\n",
    "num = int(input(\"Enter the number : \"))\n",
    "\n",
    "while True:\n",
    "    gus = random.randint(0,9)\n",
    "    if (num == gus):\n",
    "        print(f\"computer generate {gus}, you enter {num}\")\n",
    "        print(\"You guss correct!\")\n",
    "        break\n",
    "    else:\n",
    "        print(f\"computer generate {gus}, but you enter {num}\")\n",
    "        num = int(input(\"Enter the number : \"))"
   ]
  },
  {
   "cell_type": "markdown",
   "id": "48fbe04d",
   "metadata": {},
   "source": []
  },
  {
   "cell_type": "markdown",
   "id": "c09989aa",
   "metadata": {},
   "source": [
    "4. Construct Pattern (Diamond Pattern)\n",
    "\n",
    "Write a Python program to construct the following pattern, using a nested for loop.\n",
    "pyrimad"
   ]
  },
  {
   "cell_type": "code",
   "execution_count": 23,
   "id": "654d9451",
   "metadata": {},
   "outputs": [
    {
     "name": "stdout",
     "output_type": "stream",
     "text": [
      "* * * * * * * * \n",
      "* * * * * * * \n",
      "* * * * * * \n",
      "* * * * * \n",
      "* * * * \n",
      "* * * \n",
      "* * \n",
      "* \n",
      "* \n",
      "* * \n",
      "* * * \n",
      "* * * * \n",
      "* * * * * \n",
      "* * * * * * \n",
      "* * * * * * * \n",
      "* * * * * * * * \n"
     ]
    }
   ],
   "source": [
    "for i in range(8):\n",
    "    for j in range(8-i):\n",
    "        print(\"*\",end=\" \")\n",
    "    print()\n",
    "for i in range(8):\n",
    "    for j in range(i+1):\n",
    "        print(\"*\",end=\" \")\n",
    "    print()"
   ]
  },
  {
   "cell_type": "markdown",
   "id": "f6d7da7d",
   "metadata": {},
   "source": []
  },
  {
   "cell_type": "markdown",
   "id": "a1b257ad",
   "metadata": {},
   "source": [
    "Write a Python program that accepts a word from the user and reverses it."
   ]
  },
  {
   "cell_type": "code",
   "execution_count": 4,
   "id": "ea8bd63b",
   "metadata": {},
   "outputs": [
    {
     "name": "stdout",
     "output_type": "stream",
     "text": [
      "nassah\n"
     ]
    }
   ],
   "source": [
    "word = input(\"Enter the word :\")\n",
    "reversed_word = word[::-1]\n",
    "print(reversed_word)"
   ]
  },
  {
   "cell_type": "markdown",
   "id": "8e0ac953",
   "metadata": {},
   "source": [
    "Write a Python program to count the number of even and odd numbers in a series of numbers"
   ]
  },
  {
   "cell_type": "code",
   "execution_count": 8,
   "id": "7ad6f900",
   "metadata": {},
   "outputs": [
    {
     "name": "stdout",
     "output_type": "stream",
     "text": [
      "The odd number is 5 and the even number is 4\n"
     ]
    }
   ],
   "source": [
    "numbers = (1, 2, 3, 4, 5, 6, 7, 8, 9)\n",
    "even = 0\n",
    "odd = 0\n",
    "for i in numbers:\n",
    "    if (i%2 == 0):\n",
    "        even+=1\n",
    "    elif(i%2 != 0):\n",
    "        odd+=1\n",
    "\n",
    "print(f\"The odd number is {odd} and the even number is {even}\")"
   ]
  },
  {
   "cell_type": "markdown",
   "id": "a27ddd9b",
   "metadata": {},
   "source": [
    "Fabonachi Serise :\n"
   ]
  },
  {
   "cell_type": "code",
   "execution_count": 22,
   "id": "60e9add1",
   "metadata": {},
   "outputs": [
    {
     "name": "stdout",
     "output_type": "stream",
     "text": [
      "0 1 1 2 3 5 8 13 21 34 55 89 144 233 377 610 987 1597 2584 4181 6765 10946 17711 28657 46368 75025 121393 196418 317811 514229 832040 1346269 2178309 3524578 5702887 9227465 14930352 24157817 39088169 63245986 "
     ]
    }
   ],
   "source": [
    "n = 40 \n",
    "a = 0\n",
    "b = 1\n",
    "for i in range(n):\n",
    "    print(a,end=\" \")\n",
    "    nxt = a+b\n",
    "    a = b\n",
    "    b = nxt"
   ]
  },
  {
   "cell_type": "markdown",
   "id": "8d51839c",
   "metadata": {},
   "source": []
  },
  {
   "cell_type": "markdown",
   "id": "d1d3dbe6",
   "metadata": {},
   "source": []
  }
 ],
 "metadata": {
  "kernelspec": {
   "display_name": "base",
   "language": "python",
   "name": "python3"
  },
  "language_info": {
   "codemirror_mode": {
    "name": "ipython",
    "version": 3
   },
   "file_extension": ".py",
   "mimetype": "text/x-python",
   "name": "python",
   "nbconvert_exporter": "python",
   "pygments_lexer": "ipython3",
   "version": "3.13.5"
  }
 },
 "nbformat": 4,
 "nbformat_minor": 5
}
