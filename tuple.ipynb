{
 "cells": [
  {
   "cell_type": "markdown",
   "id": "3263dfcf",
   "metadata": {},
   "source": [
    "## Questions Related Tuple :\n"
   ]
  },
  {
   "cell_type": "markdown",
   "id": "f944f641",
   "metadata": {},
   "source": [
    " Create a Tuple of Numbers and Print One Item\n",
    "\n",
    "Write a Python program to create a tuple of numbers and print one item."
   ]
  },
  {
   "cell_type": "code",
   "execution_count": 6,
   "id": "400fafb3",
   "metadata": {},
   "outputs": [
    {
     "name": "stdout",
     "output_type": "stream",
     "text": [
      "4\n",
      "['SaimKhan']\n",
      "['SaimKhan', 'zohan']\n"
     ]
    }
   ],
   "source": [
    "tuple = (1,2,3,4)\n",
    "print(tuple[3])\n",
    "name = (\"SaimKhan\")\n",
    "name = name.split()\n",
    "print(name)\n",
    "name.append(\"zohan\")\n",
    "print(name)"
   ]
  },
  {
   "cell_type": "markdown",
   "id": "67100502",
   "metadata": {},
   "source": [
    " Get the 4th Element from the Last Element of a Tuple\n",
    "\n",
    "Write a Python program to get the 4th element from the last element of a tuple."
   ]
  },
  {
   "cell_type": "code",
   "execution_count": 7,
   "id": "aea6b00b",
   "metadata": {},
   "outputs": [
    {
     "name": "stdout",
     "output_type": "stream",
     "text": [
      "3\n"
     ]
    }
   ],
   "source": [
    "number = (2,3,4,5,1,2,3,4,5,9)\n",
    "num = number[-4]\n",
    "print(num)"
   ]
  },
  {
   "cell_type": "markdown",
   "id": "30ccfa3f",
   "metadata": {},
   "source": []
  }
 ],
 "metadata": {
  "kernelspec": {
   "display_name": "base",
   "language": "python",
   "name": "python3"
  },
  "language_info": {
   "codemirror_mode": {
    "name": "ipython",
    "version": 3
   },
   "file_extension": ".py",
   "mimetype": "text/x-python",
   "name": "python",
   "nbconvert_exporter": "python",
   "pygments_lexer": "ipython3",
   "version": "3.13.5"
  }
 },
 "nbformat": 4,
 "nbformat_minor": 5
}
