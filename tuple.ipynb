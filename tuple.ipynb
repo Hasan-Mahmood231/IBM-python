{
 "cells": [
  {
   "cell_type": "markdown",
   "id": "3263dfcf",
   "metadata": {},
   "source": [
    "## Questions Related Tuple :\n"
   ]
  },
  {
   "cell_type": "markdown",
   "id": "f944f641",
   "metadata": {},
   "source": [
    " Create a Tuple of Numbers and Print One Item\n",
    "\n",
    "Write a Python program to create a tuple of numbers and print one item."
   ]
  },
  {
   "cell_type": "code",
   "execution_count": 6,
   "id": "400fafb3",
   "metadata": {},
   "outputs": [
    {
     "name": "stdout",
     "output_type": "stream",
     "text": [
      "4\n",
      "['SaimKhan']\n",
      "['SaimKhan', 'zohan']\n"
     ]
    }
   ],
   "source": [
    "tuple = (1,2,3,4)\n",
    "print(tuple[3])\n",
    "name = (\"SaimKhan\")\n",
    "name = name.split()\n",
    "print(name)\n",
    "name.append(\"zohan\")\n",
    "print(name)"
   ]
  },
  {
   "cell_type": "markdown",
   "id": "67100502",
   "metadata": {},
   "source": [
    " Get the 4th Element from the Last Element of a Tuple\n",
    "\n",
    "Write a Python program to get the 4th element from the last element of a tuple.        <br> Write a Python program to create the colon of a tuple.<br>\n",
    "Write a Python program to find repeated items in a tuple.<br>Write a Python program to check whether an element exists within a tuple."
   ]
  },
  {
   "cell_type": "code",
   "execution_count": 13,
   "id": "aea6b00b",
   "metadata": {},
   "outputs": [
    {
     "name": "stdout",
     "output_type": "stream",
     "text": [
      "3\n",
      "(2, 3, 4, 5, 1, 2, 3, 4, 5, 9)\n",
      "{2, 3, 4, 5}\n",
      "no\n"
     ]
    }
   ],
   "source": [
    "number = (2,3,4,5,1,2,3,4,5,9)\n",
    "num = number[-4]\n",
    "print(num)\n",
    "number_2 = number[:]\n",
    "print(number_2)\n",
    "\n",
    "repeat = set()\n",
    "for item in number:\n",
    "    if number.count(item) > 1:\n",
    "        repeat.add(item)\n",
    "print(repeat)\n",
    "\n",
    "if 99 in number:\n",
    "    print(\"yes\")\n",
    "else:\n",
    "    print(\"no\")"
   ]
  },
  {
   "cell_type": "markdown",
   "id": "9c14cd04",
   "metadata": {},
   "source": [
    "Write a Python program to slice a tupl"
   ]
  },
  {
   "cell_type": "code",
   "execution_count": 14,
   "id": "fea962c6",
   "metadata": {},
   "outputs": [
    {
     "name": "stdout",
     "output_type": "stream",
     "text": [
      "(5, 2, 2)\n",
      "(2,)\n",
      "()\n",
      "(3, 4, 5, 2, 2)\n"
     ]
    }
   ],
   "source": [
    "number = (3,4,5,2,2,3,2,3,4,1,2,3,2,4,3,4,2)\n",
    "sl1 = number[2:5]\n",
    "sl2 = number[4:5]\n",
    "sl3 = number[-1:-5]\n",
    "sl4 = number[:5]\n",
    "\n",
    "print(sl1)\n",
    "print(sl2)\n",
    "print(sl3)\n",
    "print(sl4)"
   ]
  },
  {
   "cell_type": "markdown",
   "id": "30ccfa3f",
   "metadata": {},
   "source": []
  }
 ],
 "metadata": {
  "kernelspec": {
   "display_name": "base",
   "language": "python",
   "name": "python3"
  },
  "language_info": {
   "codemirror_mode": {
    "name": "ipython",
    "version": 3
   },
   "file_extension": ".py",
   "mimetype": "text/x-python",
   "name": "python",
   "nbconvert_exporter": "python",
   "pygments_lexer": "ipython3",
   "version": "3.13.5"
  }
 },
 "nbformat": 4,
 "nbformat_minor": 5
}
