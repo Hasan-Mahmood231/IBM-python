{
 "cells": [
  {
   "cell_type": "markdown",
   "id": "3263dfcf",
   "metadata": {},
   "source": [
    "## Questions Related Tuple :\n"
   ]
  },
  {
   "cell_type": "markdown",
   "id": "f944f641",
   "metadata": {},
   "source": [
    " Create a Tuple of Numbers and Print One Item\n",
    "\n",
    "Write a Python program to create a tuple of numbers and print one item."
   ]
  },
  {
   "cell_type": "code",
   "execution_count": 6,
   "id": "400fafb3",
   "metadata": {},
   "outputs": [
    {
     "name": "stdout",
     "output_type": "stream",
     "text": [
      "4\n",
      "['SaimKhan']\n",
      "['SaimKhan', 'zohan']\n"
     ]
    }
   ],
   "source": [
    "tuple = (1,2,3,4)\n",
    "print(tuple[3])\n",
    "name = (\"SaimKhan\")\n",
    "name = name.split()\n",
    "print(name)\n",
    "name.append(\"zohan\")\n",
    "print(name)"
   ]
  },
  {
   "cell_type": "markdown",
   "id": "67100502",
   "metadata": {},
   "source": [
    " Get the 4th Element from the Last Element of a Tuple\n",
    "\n",
    "Write a Python program to get the 4th element from the last element of a tuple.        <br> Write a Python program to create the colon of a tuple.<br>\n",
    "Write a Python program to find repeated items in a tuple.<br>Write a Python program to check whether an element exists within a tuple."
   ]
  },
  {
   "cell_type": "code",
   "execution_count": 13,
   "id": "aea6b00b",
   "metadata": {},
   "outputs": [
    {
     "name": "stdout",
     "output_type": "stream",
     "text": [
      "3\n",
      "(2, 3, 4, 5, 1, 2, 3, 4, 5, 9)\n",
      "{2, 3, 4, 5}\n",
      "no\n"
     ]
    }
   ],
   "source": [
    "number = (2,3,4,5,1,2,3,4,5,9)\n",
    "num = number[-4]\n",
    "print(num)\n",
    "number_2 = number[:]\n",
    "print(number_2)\n",
    "\n",
    "repeat = set()\n",
    "for item in number:\n",
    "    if number.count(item) > 1:\n",
    "        repeat.add(item)\n",
    "print(repeat)\n",
    "\n",
    "if 99 in number:\n",
    "    print(\"yes\")\n",
    "else:\n",
    "    print(\"no\")"
   ]
  },
  {
   "cell_type": "markdown",
   "id": "9c14cd04",
   "metadata": {},
   "source": [
    "Write a Python program to slice a tupl"
   ]
  },
  {
   "cell_type": "code",
   "execution_count": 14,
   "id": "fea962c6",
   "metadata": {},
   "outputs": [
    {
     "name": "stdout",
     "output_type": "stream",
     "text": [
      "(5, 2, 2)\n",
      "(2,)\n",
      "()\n",
      "(3, 4, 5, 2, 2)\n"
     ]
    }
   ],
   "source": [
    "number = (3,4,5,2,2,3,2,3,4,1,2,3,2,4,3,4,2)\n",
    "sl1 = number[2:5]\n",
    "sl2 = number[4:5]\n",
    "sl3 = number[-1:-5]\n",
    "sl4 = number[:5]\n",
    "\n",
    "print(sl1)\n",
    "print(sl2)\n",
    "print(sl3)\n",
    "print(sl4)"
   ]
  },
  {
   "cell_type": "markdown",
   "id": "30ccfa3f",
   "metadata": {},
   "source": []
  },
  {
   "cell_type": "markdown",
   "id": "2e088828",
   "metadata": {},
   "source": [
    "## Transform function :"
   ]
  },
  {
   "cell_type": "code",
   "execution_count": 14,
   "id": "5c4d1970",
   "metadata": {},
   "outputs": [],
   "source": [
    "import pandas as pd\n",
    "import json "
   ]
  },
  {
   "cell_type": "code",
   "execution_count": 12,
   "id": "b69b64ea",
   "metadata": {},
   "outputs": [
    {
     "data": {
      "text/html": [
       "<div>\n",
       "<style scoped>\n",
       "    .dataframe tbody tr th:only-of-type {\n",
       "        vertical-align: middle;\n",
       "    }\n",
       "\n",
       "    .dataframe tbody tr th {\n",
       "        vertical-align: top;\n",
       "    }\n",
       "\n",
       "    .dataframe thead th {\n",
       "        text-align: right;\n",
       "    }\n",
       "</style>\n",
       "<table border=\"1\" class=\"dataframe\">\n",
       "  <thead>\n",
       "    <tr style=\"text-align: right;\">\n",
       "      <th></th>\n",
       "      <th>Marks</th>\n",
       "    </tr>\n",
       "  </thead>\n",
       "  <tbody>\n",
       "    <tr>\n",
       "      <th>0</th>\n",
       "      <td>23</td>\n",
       "    </tr>\n",
       "    <tr>\n",
       "      <th>1</th>\n",
       "      <td>21</td>\n",
       "    </tr>\n",
       "    <tr>\n",
       "      <th>2</th>\n",
       "      <td>22</td>\n",
       "    </tr>\n",
       "    <tr>\n",
       "      <th>3</th>\n",
       "      <td>24</td>\n",
       "    </tr>\n",
       "  </tbody>\n",
       "</table>\n",
       "</div>"
      ],
      "text/plain": [
       "   Marks\n",
       "0     23\n",
       "1     21\n",
       "2     22\n",
       "3     24"
      ]
     },
     "execution_count": 12,
     "metadata": {},
     "output_type": "execute_result"
    }
   ],
   "source": [
    "marks = pd.DataFrame([23,21,22,24] ,columns=['Marks'])\n",
    "marks"
   ]
  },
  {
   "cell_type": "code",
   "execution_count": 13,
   "id": "178a8dbc",
   "metadata": {},
   "outputs": [
    {
     "data": {
      "text/html": [
       "<div>\n",
       "<style scoped>\n",
       "    .dataframe tbody tr th:only-of-type {\n",
       "        vertical-align: middle;\n",
       "    }\n",
       "\n",
       "    .dataframe tbody tr th {\n",
       "        vertical-align: top;\n",
       "    }\n",
       "\n",
       "    .dataframe thead th {\n",
       "        text-align: right;\n",
       "    }\n",
       "</style>\n",
       "<table border=\"1\" class=\"dataframe\">\n",
       "  <thead>\n",
       "    <tr style=\"text-align: right;\">\n",
       "      <th></th>\n",
       "      <th>Marks</th>\n",
       "    </tr>\n",
       "  </thead>\n",
       "  <tbody>\n",
       "    <tr>\n",
       "      <th>0</th>\n",
       "      <td>46</td>\n",
       "    </tr>\n",
       "    <tr>\n",
       "      <th>1</th>\n",
       "      <td>42</td>\n",
       "    </tr>\n",
       "    <tr>\n",
       "      <th>2</th>\n",
       "      <td>44</td>\n",
       "    </tr>\n",
       "    <tr>\n",
       "      <th>3</th>\n",
       "      <td>48</td>\n",
       "    </tr>\n",
       "  </tbody>\n",
       "</table>\n",
       "</div>"
      ],
      "text/plain": [
       "   Marks\n",
       "0     46\n",
       "1     42\n",
       "2     44\n",
       "3     48"
      ]
     },
     "execution_count": 13,
     "metadata": {},
     "output_type": "execute_result"
    }
   ],
   "source": [
    "marks.transform(lambda x:x*2)"
   ]
  },
  {
   "cell_type": "code",
   "execution_count": 19,
   "id": "0e4e6b52",
   "metadata": {},
   "outputs": [
    {
     "name": "stdout",
     "output_type": "stream",
     "text": [
      "kind = youtube#videoCategoryListResponse\n",
      "etag = \"XI7nbFXulYBIpL0ayR_gDh3eu1k/1v2mrzYSYG6onNLt2qTj13hkQZk\"\n",
      "items = [{'kind': 'youtube#videoCategory', 'etag': '\"XI7nbFXulYBIpL0ayR_gDh3eu1k/Xy1mB4_yLrHy_BmKmPBggty2mZQ\"', 'id': '1', 'snippet': {'channelId': 'UCBR8-60-B28hp2BmDPdntcQ', 'title': 'Film & Animation', 'assignable': True}}, {'kind': 'youtube#videoCategory', 'etag': '\"XI7nbFXulYBIpL0ayR_gDh3eu1k/UZ1oLIIz2dxIhO45ZTFR3a3NyTA\"', 'id': '2', 'snippet': {'channelId': 'UCBR8-60-B28hp2BmDPdntcQ', 'title': 'Autos & Vehicles', 'assignable': True}}, {'kind': 'youtube#videoCategory', 'etag': '\"XI7nbFXulYBIpL0ayR_gDh3eu1k/nqRIq97-xe5XRZTxbknKFVe5Lmg\"', 'id': '10', 'snippet': {'channelId': 'UCBR8-60-B28hp2BmDPdntcQ', 'title': 'Music', 'assignable': True}}, {'kind': 'youtube#videoCategory', 'etag': '\"XI7nbFXulYBIpL0ayR_gDh3eu1k/HwXKamM1Q20q9BN-oBJavSGkfDI\"', 'id': '15', 'snippet': {'channelId': 'UCBR8-60-B28hp2BmDPdntcQ', 'title': 'Pets & Animals', 'assignable': True}}, {'kind': 'youtube#videoCategory', 'etag': '\"XI7nbFXulYBIpL0ayR_gDh3eu1k/9GQMSRjrZdHeb1OEM1XVQ9zbGec\"', 'id': '17', 'snippet': {'channelId': 'UCBR8-60-B28hp2BmDPdntcQ', 'title': 'Sports', 'assignable': True}}, {'kind': 'youtube#videoCategory', 'etag': '\"XI7nbFXulYBIpL0ayR_gDh3eu1k/FJwVpGCVZ1yiJrqZbpqe68Sy_OE\"', 'id': '18', 'snippet': {'channelId': 'UCBR8-60-B28hp2BmDPdntcQ', 'title': 'Short Movies', 'assignable': False}}, {'kind': 'youtube#videoCategory', 'etag': '\"XI7nbFXulYBIpL0ayR_gDh3eu1k/M-3iD9dwK7YJCafRf_DkLN8CouA\"', 'id': '19', 'snippet': {'channelId': 'UCBR8-60-B28hp2BmDPdntcQ', 'title': 'Travel & Events', 'assignable': True}}, {'kind': 'youtube#videoCategory', 'etag': '\"XI7nbFXulYBIpL0ayR_gDh3eu1k/WmA0qYEfjWsAoyJFSw2zinhn2wM\"', 'id': '20', 'snippet': {'channelId': 'UCBR8-60-B28hp2BmDPdntcQ', 'title': 'Gaming', 'assignable': True}}, {'kind': 'youtube#videoCategory', 'etag': '\"XI7nbFXulYBIpL0ayR_gDh3eu1k/EapFaGYG7K0StIXVf8aba249tdM\"', 'id': '21', 'snippet': {'channelId': 'UCBR8-60-B28hp2BmDPdntcQ', 'title': 'Videoblogging', 'assignable': False}}, {'kind': 'youtube#videoCategory', 'etag': '\"XI7nbFXulYBIpL0ayR_gDh3eu1k/xId8RX7vRN8rqkbYZbNIytUQDRo\"', 'id': '22', 'snippet': {'channelId': 'UCBR8-60-B28hp2BmDPdntcQ', 'title': 'People & Blogs', 'assignable': True}}, {'kind': 'youtube#videoCategory', 'etag': '\"XI7nbFXulYBIpL0ayR_gDh3eu1k/G9LHzQmx44rX2S5yaga_Aqtwz8M\"', 'id': '23', 'snippet': {'channelId': 'UCBR8-60-B28hp2BmDPdntcQ', 'title': 'Comedy', 'assignable': True}}, {'kind': 'youtube#videoCategory', 'etag': '\"XI7nbFXulYBIpL0ayR_gDh3eu1k/UVB9oxX2Bvqa_w_y3vXSLVK5E_s\"', 'id': '24', 'snippet': {'channelId': 'UCBR8-60-B28hp2BmDPdntcQ', 'title': 'Entertainment', 'assignable': True}}, {'kind': 'youtube#videoCategory', 'etag': '\"XI7nbFXulYBIpL0ayR_gDh3eu1k/QiLK0ZIrFoORdk_g2l_XR_ECjDc\"', 'id': '25', 'snippet': {'channelId': 'UCBR8-60-B28hp2BmDPdntcQ', 'title': 'News & Politics', 'assignable': True}}, {'kind': 'youtube#videoCategory', 'etag': '\"XI7nbFXulYBIpL0ayR_gDh3eu1k/r6Ck6Z0_L0rG37VJQR200SGNA_w\"', 'id': '26', 'snippet': {'channelId': 'UCBR8-60-B28hp2BmDPdntcQ', 'title': 'Howto & Style', 'assignable': True}}, {'kind': 'youtube#videoCategory', 'etag': '\"XI7nbFXulYBIpL0ayR_gDh3eu1k/EoYkczo9I3RCf96RveKTOgOPkUM\"', 'id': '27', 'snippet': {'channelId': 'UCBR8-60-B28hp2BmDPdntcQ', 'title': 'Education', 'assignable': True}}, {'kind': 'youtube#videoCategory', 'etag': '\"XI7nbFXulYBIpL0ayR_gDh3eu1k/w5HjcTD82G_XA3xBctS30zS-JpQ\"', 'id': '28', 'snippet': {'channelId': 'UCBR8-60-B28hp2BmDPdntcQ', 'title': 'Science & Technology', 'assignable': True}}, {'kind': 'youtube#videoCategory', 'etag': '\"XI7nbFXulYBIpL0ayR_gDh3eu1k/lL7uWDr_071CHxifjYG1tJrp4Uo\"', 'id': '30', 'snippet': {'channelId': 'UCBR8-60-B28hp2BmDPdntcQ', 'title': 'Movies', 'assignable': False}}, {'kind': 'youtube#videoCategory', 'etag': '\"XI7nbFXulYBIpL0ayR_gDh3eu1k/WnuVfjO-PyFLO7NTRQIbrGE62nk\"', 'id': '31', 'snippet': {'channelId': 'UCBR8-60-B28hp2BmDPdntcQ', 'title': 'Anime/Animation', 'assignable': False}}, {'kind': 'youtube#videoCategory', 'etag': '\"XI7nbFXulYBIpL0ayR_gDh3eu1k/ctpH2hGA_UZ3volJT_FTlOg9M00\"', 'id': '32', 'snippet': {'channelId': 'UCBR8-60-B28hp2BmDPdntcQ', 'title': 'Action/Adventure', 'assignable': False}}, {'kind': 'youtube#videoCategory', 'etag': '\"XI7nbFXulYBIpL0ayR_gDh3eu1k/L0kR3-g1BAo5UD1PLVbQ7LkkDtQ\"', 'id': '33', 'snippet': {'channelId': 'UCBR8-60-B28hp2BmDPdntcQ', 'title': 'Classics', 'assignable': False}}, {'kind': 'youtube#videoCategory', 'etag': '\"XI7nbFXulYBIpL0ayR_gDh3eu1k/pUZOAC_s9sfiwar639qr_wAB-aI\"', 'id': '34', 'snippet': {'channelId': 'UCBR8-60-B28hp2BmDPdntcQ', 'title': 'Comedy', 'assignable': False}}, {'kind': 'youtube#videoCategory', 'etag': '\"XI7nbFXulYBIpL0ayR_gDh3eu1k/Xb5JLhtyNRN3AQq021Ds-OV50Jk\"', 'id': '35', 'snippet': {'channelId': 'UCBR8-60-B28hp2BmDPdntcQ', 'title': 'Documentary', 'assignable': False}}, {'kind': 'youtube#videoCategory', 'etag': '\"XI7nbFXulYBIpL0ayR_gDh3eu1k/u8WXzF4HIhtEi805__sqjuA4lEk\"', 'id': '36', 'snippet': {'channelId': 'UCBR8-60-B28hp2BmDPdntcQ', 'title': 'Drama', 'assignable': False}}, {'kind': 'youtube#videoCategory', 'etag': '\"XI7nbFXulYBIpL0ayR_gDh3eu1k/D04PP4Gr7wc4IV_O9G66Z4A8KWQ\"', 'id': '37', 'snippet': {'channelId': 'UCBR8-60-B28hp2BmDPdntcQ', 'title': 'Family', 'assignable': False}}, {'kind': 'youtube#videoCategory', 'etag': '\"XI7nbFXulYBIpL0ayR_gDh3eu1k/i5-_AceGXQCEEMWU0V8CcQm_vLQ\"', 'id': '38', 'snippet': {'channelId': 'UCBR8-60-B28hp2BmDPdntcQ', 'title': 'Foreign', 'assignable': False}}, {'kind': 'youtube#videoCategory', 'etag': '\"XI7nbFXulYBIpL0ayR_gDh3eu1k/rtlxd0zOixA9QHdIZB26-St5qgQ\"', 'id': '39', 'snippet': {'channelId': 'UCBR8-60-B28hp2BmDPdntcQ', 'title': 'Horror', 'assignable': False}}, {'kind': 'youtube#videoCategory', 'etag': '\"XI7nbFXulYBIpL0ayR_gDh3eu1k/N1TrDFLRppxZgBowCJfJCvh0Dpg\"', 'id': '40', 'snippet': {'channelId': 'UCBR8-60-B28hp2BmDPdntcQ', 'title': 'Sci-Fi/Fantasy', 'assignable': False}}, {'kind': 'youtube#videoCategory', 'etag': '\"XI7nbFXulYBIpL0ayR_gDh3eu1k/7UMGi6zRySqXopr_rv4sZq6Za2E\"', 'id': '41', 'snippet': {'channelId': 'UCBR8-60-B28hp2BmDPdntcQ', 'title': 'Thriller', 'assignable': False}}, {'kind': 'youtube#videoCategory', 'etag': '\"XI7nbFXulYBIpL0ayR_gDh3eu1k/RScXhi324h8usyIetreAVb-uKeM\"', 'id': '42', 'snippet': {'channelId': 'UCBR8-60-B28hp2BmDPdntcQ', 'title': 'Shorts', 'assignable': False}}, {'kind': 'youtube#videoCategory', 'etag': '\"XI7nbFXulYBIpL0ayR_gDh3eu1k/0n9MJVCDLpA8q7aiGVrFsuFsd0A\"', 'id': '43', 'snippet': {'channelId': 'UCBR8-60-B28hp2BmDPdntcQ', 'title': 'Shows', 'assignable': False}}, {'kind': 'youtube#videoCategory', 'etag': '\"XI7nbFXulYBIpL0ayR_gDh3eu1k/x5NxSf5fz8hn4loSN4rvhwzD_pY\"', 'id': '44', 'snippet': {'channelId': 'UCBR8-60-B28hp2BmDPdntcQ', 'title': 'Trailers', 'assignable': False}}]\n"
     ]
    }
   ],
   "source": [
    "with open('MX_category_id.json','r') as open_file:\n",
    "    dec = json.load(open_file)\n",
    "\n",
    "\n",
    "for key, val in dec.items():\n",
    "    print(f\"{key} = {val}\")"
   ]
  },
  {
   "cell_type": "code",
   "execution_count": 1,
   "id": "a0dbe44b",
   "metadata": {},
   "outputs": [],
   "source": [
    "import pandas as pd"
   ]
  },
  {
   "cell_type": "markdown",
   "id": "7f63d01e",
   "metadata": {},
   "source": []
  }
 ],
 "metadata": {
  "kernelspec": {
   "display_name": "base",
   "language": "python",
   "name": "python3"
  },
  "language_info": {
   "codemirror_mode": {
    "name": "ipython",
    "version": 3
   },
   "file_extension": ".py",
   "mimetype": "text/x-python",
   "name": "python",
   "nbconvert_exporter": "python",
   "pygments_lexer": "ipython3",
   "version": "3.13.5"
  }
 },
 "nbformat": 4,
 "nbformat_minor": 5
}
